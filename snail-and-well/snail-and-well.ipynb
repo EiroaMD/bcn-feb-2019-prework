{
 "cells": [
  {
   "cell_type": "markdown",
   "metadata": {},
   "source": [
    "# Snail and well\n",
    "\n",
    "A snail falls at the bottom of a 125 cm well. Each day the snail rises 30 cm. But at night, while sleeping, slides 20 cm because the walls are wet. How many days does it take to escape from the well?\n",
    "\n",
    "TIP: http://puzzles.nigelcoldwell.co.uk/sixtytwo.htm"
   ]
  },
  {
   "cell_type": "markdown",
   "metadata": {},
   "source": [
    "## Solución"
   ]
  },
  {
   "cell_type": "code",
   "execution_count": null,
   "metadata": {},
   "outputs": [],
   "source": [
    "# Assign problem data to variables with representative names\n",
    "# well height, daily advance, night retreat, accumulated distance\n",
    "wellheight = 125\n",
    "dailyadvance = 30\n",
    "nightretreat = 20\n",
    "accumulateddistance = 0\n",
    "\n",
    "# Assign 0 to the variable that represents the solution\n",
    "days = 0\n",
    "\n",
    "# Write the code that solves the problem\n",
    "while accumulateddistance <= wellheight:\n",
    "  accumulateddistance = accumulateddistance + dailyadvance\n",
    "  if accumulateddistance <= wellheight:\n",
    "    accumulateddistance = accumulateddistance - nightretreat\n",
    "  days = days + 1\n",
    "\n",
    "# Print the result with print('Days =', days)\n",
    "print(\"Days=\", days)\n"
   ]
  },
  {
   "cell_type": "markdown",
   "metadata": {},
   "source": [
    "## Goals\n",
    "\n",
    "1. Treatment of variables\n",
    "2. Use of loop **while**\n",
    "3. Use of conditional **if-else**\n",
    "4. Print in console"
   ]
  },
  {
   "cell_type": "markdown",
   "metadata": {},
   "source": [
    "## Bonus\n",
    "The distance traveled by the snail is now defined by a list.\n",
    "```\n",
    "advance_cm = [30, 21, 33, 77, 44, 45, 23, 45, 12, 34, 55]\n",
    "```\n",
    "How long does it take to raise the well?\n",
    "\n",
    "What is its maximum displacement in one day? And its minimum?\n",
    "\n",
    "What is its average speed during the day?\n",
    "\n",
    "What is the standard deviation of its displacement during the day?"
   ]
  },
  {
   "cell_type": "code",
   "execution_count": null,
   "metadata": {},
   "outputs": [],
   "source": [
    "# Assign problem data to variables with representative names\n",
    "# well height, daily advance, night retreat, accumulated distance\n",
    "wellheight = 125\n",
    "dailyadvance = 30\n",
    "nightretreat = 20\n",
    "accumulateddistance = []\n",
    "\n",
    "advance_cm = [30, 21, 33, 77, 44, 45, 23, 45, 12, 34, 55]\n",
    "# Assign 0 to the variable that represents the solution\n",
    "days = 0\n",
    "\n",
    "# Write the code that solves the problem\n",
    "accumulateddistance = []\n",
    "while sum(accumulateddistance) <= 125:\n",
    "  accumulateddistance.append(advance_cm[0])\n",
    "  del advance_cm[0]\n",
    "  days = days + 1\n",
    "\n",
    "# Print the result with print('Days =', days)\n",
    "print(\"Days=\", days)\n",
    "\n",
    "# What is its maximum displacement in a day? And its minimum?\n",
    "print(\"The maximum displacement in a day is:\")\n",
    "print(max(accumulateddistance))\n",
    "\n",
    "# What is its average progress?\n",
    "print(\"The average progress is:\")\n",
    "average = sum(accumulateddistance)/len(accumulateddistance)\n",
    "print(average)\n",
    "\n",
    "# What is the standard deviation of your displacement during the day?\n",
    "devsq = [(x - average) ** 2 for x in accumulateddistance]\n",
    "numerator = sum(devsq)\n",
    "denominator = len(devsq)\n",
    "sd = (numerator/denominator)**(1/2)\n",
    "print(\"The sd is\", sd)\n"
   ]
  },
  {
   "cell_type": "code",
   "execution_count": null,
   "metadata": {},
   "outputs": [],
   "source": []
  }
 ],
 "metadata": {
  "kernelspec": {
   "display_name": "Python 3",
   "language": "python",
   "name": "python3"
  },
  "language_info": {
   "codemirror_mode": {
    "name": "ipython",
    "version": 3
   },
   "file_extension": ".py",
   "mimetype": "text/x-python",
   "name": "python",
   "nbconvert_exporter": "python",
   "pygments_lexer": "ipython3",
   "version": "3.7.1"
  }
 },
 "nbformat": 4,
 "nbformat_minor": 2
}
