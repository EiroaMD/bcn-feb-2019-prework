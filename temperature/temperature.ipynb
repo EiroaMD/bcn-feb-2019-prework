{
 "cells": [
  {
   "cell_type": "markdown",
   "metadata": {},
   "source": [
    "# Processor temperature\n",
    "\n",
    "We have a temperature sensor in the processor of our company's server. We want to analyze the data provided to determinate whether we should change the cooling system for a better one. It is expensive and as a data analyst we cannot make decisions without a basis.\n",
    "\n",
    "We provide the temperatures measured throughout the 24 hours of a day in a list-type data structure composed of 24 integers:\n",
    "```\n",
    "temperatures_C = [33,66,65,0,59,60,62,64,70,76,80,69,80,83,68,79,61,53,50,49,53,48,45,39]\n",
    "```\n",
    "\n",
    "## Goals\n",
    "\n",
    "1. Treatment of lists\n",
    "2. Use of loop or list comprenhention\n",
    "3. Calculation of the mean, minimum and maximum.\n",
    "4. Filtering of lists.\n",
    "5. Interpolate an outlier.\n",
    "6. Logical operators.\n",
    "7. Print"
   ]
  },
  {
   "cell_type": "markdown",
   "metadata": {},
   "source": [
    "## Temperature graph\n",
    "To facilitate understanding, the temperature graph is shown below. You do not have to do anything in this section. The test starts in **Problem**."
   ]
  },
  {
   "cell_type": "code",
   "execution_count": null,
   "metadata": {},
   "outputs": [],
   "source": [
    "# import\n",
    "import matplotlib.pyplot as plt\n",
    "%matplotlib inline\n",
    "\n",
    "# axis x, axis y\n",
    "y = [33,66,65,0,59,60,62,64,70,76,80,81,80,83,90,79,61,53,50,49,53,48,45,39]\n",
    "x = list(range(len(y)))\n",
    "\n",
    "# plot\n",
    "plt.plot(x, y)\n",
    "plt.axhline(y=70, linewidth=1, color='r')\n",
    "plt.xlabel('hours')\n",
    "plt.ylabel('Temperature ºC')\n",
    "plt.title('Temperatures of our server throughout the day')"
   ]
  },
  {
   "cell_type": "markdown",
   "metadata": {},
   "source": [
    "## Problem\n",
    "\n",
    "If the sensor detects more than 4 hours with temperatures greater than or equal to 70ºC or any temperature above 80ºC or the average exceeds 65ºC throughout the day, we must give the order to change the cooling system to avoid damaging the processor.\n",
    "\n",
    "We will guide you step by step so you can make the decision by calculating some intermediate steps:\n",
    "\n",
    "1. Minimum temperature\n",
    "2. Maximum temperature\n",
    "3. Temperatures equal to or greater than 70ºC\n",
    "4. Average temperatures throughout the day.\n",
    "5. If there was a sensor failure at 03:00 and we did not capture the data, how would you estimate the value that we lack? Correct that value in the list of temperatures.\n",
    "6. Bonus: Our maintenance staff is from the United States and does not understand the international metric system. Pass temperatures to Degrees Fahrenheit.\n",
    "\n",
    "Formula: F = 1.8 * C + 32\n",
    "\n",
    "web: https://en.wikipedia.org/wiki/Conversion_of_units_of_temperature\n"
   ]
  },
  {
   "cell_type": "code",
   "execution_count": null,
   "metadata": {},
   "outputs": [],
   "source": [
    "# assign a variable to the list of temperatures\n",
    "temp_C = [33,66,65,0,59,60,62,64,70,76,80,69,80,83,68,79,61,53,50,49,53,48,45,39]\n",
    "\n",
    "# 1. Calculate the minimum of the list and print the value using print()\n",
    "print(\"The minimum temperature throughout the day is:\", min(temp_C), \"ºC\")\n",
    "\n",
    "# 2. Calculate the maximum of the list and print the value using print()\n",
    "print(\"The maximum temperature throughout the day is:\", max(temp_C), \"ºC\")\n",
    "\n",
    "# 3. Items in the list that are greater than 70ºC and print the result\n",
    "gt70 = []\n",
    "for x in temp_C:\n",
    "    if x >= 70:\n",
    "        gt70.append(x)\n",
    "print(\"Temperatures equal or greater than 70ºC:\", gt70)\n",
    "    \n",
    "# 4. Calculate the mean temperature throughout the day and print the result\n",
    "mean = sum(temp_C) / len(temp_C)\n",
    "print(\"The mean temperature throughout the day is:\", mean, \"ºC\")\n",
    "\n",
    "# 5.1 Solve the fault in the sensor by estimating a value\n",
    "err = (temp_C[2] + temp_C[4]) / 2\n",
    "\n",
    "# 5.2 Update of the estimated value at 03:00 on the list\n",
    "temp_C[3] = int(err)\n",
    "print(temp_C)\n",
    "\n",
    "# Bonus: convert the list of ºC to ºFarenheit\n",
    "temp_F = []\n",
    "for i in temp_C:\n",
    "    converted = 1.8*i + 32\n",
    "    temp_F.append(converted)\n",
    "print(\"Temperatures in Farenheit:\", temp_F)\n"
   ]
  },
  {
   "cell_type": "markdown",
   "metadata": {},
   "source": [
    "## Take the decision\n",
    "Remember that if the sensor detects more than 4 hours with temperatures greater than or equal to 70ºC or any temperature higher than 80ºC or the average was higher than 65ºC throughout the day, we must give the order to change the cooling system to avoid the danger of damaging the equipment:\n",
    "* more than 4 hours with temperatures greater than or equal to 70ºC\n",
    "* some temperature higher than 80ºC\n",
    "* average was higher than 65ºC throughout the day\n",
    "If any of these three is met, the cooling system must be changed.\n"
   ]
  },
  {
   "cell_type": "code",
   "execution_count": null,
   "metadata": {},
   "outputs": [],
   "source": [
    "# Print True or False depending on whether you would change the cooling system or not\n",
    "temp_C = [33,66,65,0,59,60,62,64,70,76,80,69,80,83,68,79,61,53,50,49,53,48,45,39]\n",
    "\n",
    "print(\"More than 4h with temperatures greater than or equal to 70ºC:\")\n",
    "if len(gt70) > 4:\n",
    "    print(True)\n",
    "else:\n",
    "    print(False)\n",
    "      \n",
    "print(\"Any temperature higher than 80ºC:\")\n",
    "for i in temp_C:\n",
    "    if i > 80:\n",
    "        print(i>80)\n",
    "      \n",
    "print(\"Average higher than 65º:\")\n",
    "if mean > 65:\n",
    "    print(True)\n",
    "else:\n",
    "    print(False)\n",
    "\n",
    "\n"
   ]
  },
  {
   "cell_type": "markdown",
   "metadata": {},
   "source": [
    "## Future improvements\n",
    "1. We want the hours (not the temperatures) whose temperature exceeds 70ºC\n",
    "2. Condition that those hours are more than 4 consecutive and consecutive, not simply the sum of the whole set. Is this condition met?\n",
    "3. Average of each of the lists (ºC and ºF). How they relate?\n",
    "4. Standard deviation of each of the lists. How they relate?\n"
   ]
  },
  {
   "cell_type": "code",
   "execution_count": null,
   "metadata": {},
   "outputs": [],
   "source": [
    "# 1. We want the hours (not the temperatures) whose temperature exceeds 70ºC\n",
    "hours = []\n",
    "for i, j in enumerate(temp_C):\n",
    "    if j > 70:\n",
    "        hours.append(i)\n",
    "print(hours)\n"
   ]
  },
  {
   "cell_type": "code",
   "execution_count": null,
   "metadata": {},
   "outputs": [],
   "source": [
    "# 2. Condition that those hours are more than 4 consecutive and consecutive, not simply the sum of the whole set. Is this condition met?\n",
    "# En este no logro llegar a la solución... He encontrado esta, que es para ver si los elementos de las listas son consecutivos, pero no sé averiguar cómo hacerlo para sólo tener en cuenta \"n\" elementos :(\n",
    "\n",
    "rang = range(min(hours), max(hours)+1)\n",
    "print(rang)\n",
    "print(list(rang))\n",
    "\n",
    "print(hours == list(rang))\n"
   ]
  },
  {
   "cell_type": "code",
   "execution_count": null,
   "metadata": {},
   "outputs": [],
   "source": [
    "# 3. Average of each of the lists (ºC and ºF). How they relate?\n",
    "# Vuelvo a calcular la media en C porque arriba está la media en ºC calculada antes de la sustitución de las 3am y la media en F calculada después.\n",
    "# Tengo que volver a hacer el cambio de elemento, porque si no, no sé por qué, me vuelve a coger la lista con el '0' (creo que es cosa del jupyter).\n",
    "\n",
    "print(temp_C)\n",
    "temp_C[3] = int(err)\n",
    "\n",
    "mean_C = sum(temp_C)/len(temp_C)\n",
    "mean_F = sum(temp_F)/len(temp_F)\n",
    "print(mean_C)\n",
    "print(mean_F)\n",
    "\n",
    "#Se relacionan siguiendo la fórmula F = 1.8 * C + 32\n",
    "print(1.8*mean_C + 32)\n"
   ]
  },
  {
   "cell_type": "code",
   "execution_count": null,
   "metadata": {},
   "outputs": [],
   "source": [
    "# 4. Standard deviation of each of the lists. How they relate?\n",
    "sqdv_C = [(x - mean_C)**2 for x in temp_C]\n",
    "sqdv_F = [(x - mean_F)**2 for x in temp_F]\n",
    "\n",
    "msqdv_C = (sum(sqdv_C)/len(sqdv_C))\n",
    "msqdv_F = (sum(sqdv_F)/len(sqdv_F))\n",
    "\n",
    "sd_C = (msqdv_C**(0.5))\n",
    "sd_F = (msqdv_F**(0.5))\n",
    "\n",
    "print(sd_C)\n",
    "print(sd_F)\n",
    "\n",
    "#Después de mucho ensayo y error he llegado a que se relacionan según la fórmula F = 1.8 * C. Curiosamente se pierde el +32, no tengo claro del todo por qué, supongo que tendrá algo que ver que la media, mediana, etc son lineales y la varianza utiliza los cuadrados.\n",
    "print(1.8*sd_C)"
   ]
  },
  {
   "cell_type": "code",
   "execution_count": null,
   "metadata": {},
   "outputs": [],
   "source": []
  }
 ],
 "metadata": {
  "kernelspec": {
   "display_name": "Python 3",
   "language": "python",
   "name": "python3"
  },
  "language_info": {
   "codemirror_mode": {
    "name": "ipython",
    "version": 3
   },
   "file_extension": ".py",
   "mimetype": "text/x-python",
   "name": "python",
   "nbconvert_exporter": "python",
   "pygments_lexer": "ipython3",
   "version": "3.6.7"
  }
 },
 "nbformat": 4,
 "nbformat_minor": 2
}
